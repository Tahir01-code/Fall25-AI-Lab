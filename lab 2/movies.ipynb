{
 "cells": [
  {
   "cell_type": "code",
   "execution_count": 2,
   "id": "2a7b162d-75c4-4dad-9ec3-f37cf1482e9a",
   "metadata": {},
   "outputs": [
    {
     "name": "stdout",
     "output_type": "stream",
     "text": [
      "Initial list of movies with budgets\n",
      "\n",
      "Average Budget: 190500000.0\n",
      "\n",
      "Movies with higher than average budget:\n",
      "Pirates of the Caribbean: On Stranger Tides - 379000000 (Higher by 188500000.0)\n",
      "Avengers: Age of Ultron - 365000000 (Higher by 174500000.0)\n",
      "Avengers: Endgame - 356000000 (Higher by 165500000.0)\n",
      "Incredibles 2 - 200000000 (Higher by 9500000.0)\n",
      "\n",
      "Total movies above average budget: 4\n"
     ]
    }
   ],
   "source": [
    "print(\"Initial list of movies with budgets\")\n",
    "movies = [\n",
    "    (\"Eternal Sunshine of the Spotless Mind\", 20000000),\n",
    "    (\"Memento\", 9000000),\n",
    "    (\"Requiem for a Dream\", 4500000),\n",
    "    (\"Pirates of the Caribbean: On Stranger Tides\", 379000000),\n",
    "    (\"Avengers: Age of Ultron\", 365000000),\n",
    "    (\"Avengers: Endgame\", 356000000),\n",
    "    (\"Incredibles 2\", 200000000)\n",
    "]\n",
    "add_more = input(\"Add more movies? (yes/no): \").lower()\n",
    "if add_more == \"yes\":\n",
    "    num_movies = int(input(\"How many movies do you want to add? \"))\n",
    "    for i in range(num_movies):\n",
    "        name = input(f\"Enter movie {i+1} name: \")\n",
    "        budget = int(input(f\"Enter movie {i+1} budget: \"))\n",
    "        movies.append((name, budget))\n",
    "        break\n",
    "\n",
    "total_budget = sum(budget for name, budget in movies)\n",
    "average_budget = total_budget / len(movies)\n",
    "print(f\"\\nAverage Budget: {average_budget}\")\n",
    "\n",
    "print(\"\\nMovies with higher than average budget:\")\n",
    "count = 0\n",
    "for name, budget in movies:\n",
    "    if budget > average_budget:\n",
    "        count += 1\n",
    "        diff = budget - average_budget\n",
    "        print(f\"{name} - {budget} (Higher by {diff})\")\n",
    "        \n",
    "print(f\"\\nTotal movies above average budget: {count}\")"
   ]
  },
  {
   "cell_type": "code",
   "execution_count": null,
   "id": "64ef4406-5ea8-4079-9a57-52168c00fc0d",
   "metadata": {},
   "outputs": [],
   "source": []
  }
 ],
 "metadata": {
  "kernelspec": {
   "display_name": "base",
   "language": "python",
   "name": "python3"
  },
  "language_info": {
   "codemirror_mode": {
    "name": "ipython",
    "version": 3
   },
   "file_extension": ".py",
   "mimetype": "text/x-python",
   "name": "python",
   "nbconvert_exporter": "python",
   "pygments_lexer": "ipython3",
   "version": "3.12.7"
  }
 },
 "nbformat": 4,
 "nbformat_minor": 5
}
