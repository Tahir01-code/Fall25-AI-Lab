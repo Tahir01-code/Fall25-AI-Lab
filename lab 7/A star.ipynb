{
 "cells": [
  {
   "cell_type": "markdown",
   "id": "e41ef079",
   "metadata": {},
   "source": [
    "__Name : Tahir Fareed__\n",
    "\n",
    "__Roll no : SU92-BSAIM-F24-036__\n",
    "\n",
    "__Program: BSAI (3-A)__"
   ]
  },
  {
   "cell_type": "code",
   "execution_count": 13,
   "id": "e7186135",
   "metadata": {},
   "outputs": [
    {
     "name": "stdout",
     "output_type": "stream",
     "text": [
      "['A', 'B', 'D']\n"
     ]
    }
   ],
   "source": [
    "from collections import deque\n",
    "\n",
    "class Graph:\n",
    "    def __init__(self, graph, h_values=None):\n",
    "        self.graph = graph\n",
    "        self.h_values = h_values or {n:0 for n in graph}\n",
    "\n",
    "    def get_neighbors(self, v):\n",
    "        return self.graph.get(v, [])\n",
    "\n",
    "    def h(self, n):\n",
    "        return self.h_values.get(n, 0)\n",
    "\n",
    "    def A_star_algorithm(self, start_node, stop_node):\n",
    "        open_list = set([start_node])\n",
    "        closed_list = set()\n",
    "        g = {start_node: 0}\n",
    "        parents = {start_node: start_node}\n",
    "        while open_list:\n",
    "            n = min(open_list, key=lambda v: g.get(v, float('inf')) + self.h(v))\n",
    "            if n == stop_node:\n",
    "                path = []\n",
    "                while parents[n] != n:\n",
    "                    path.append(n)\n",
    "                    n = parents[n]\n",
    "                path.append(start_node)\n",
    "                path.reverse()\n",
    "                return path\n",
    "            for (m, weight) in self.get_neighbors(n):\n",
    "                if m not in open_list and m not in closed_list:\n",
    "                    open_list.add(m)\n",
    "                    parents[m] = n\n",
    "                    g[m] = g[n] + weight\n",
    "                else:\n",
    "                    if g.get(m, float('inf')) > g[n] + weight:\n",
    "                        g[m] = g[n] + weight\n",
    "                        parents[m] = n\n",
    "                        if m in closed_list:\n",
    "                            closed_list.remove(m)\n",
    "                            open_list.add(m)\n",
    "            open_list.remove(n)\n",
    "            closed_list.add(n)\n",
    "        return None\n",
    "\n",
    "adjacency_list = {\n",
    "    'A': [('B', 1), ('C', 3), ('D', 7)],\n",
    "    'B': [('D', 5)],\n",
    "    'C': [('D', 12)],\n",
    "    'D': []\n",
    "}\n",
    "h_values = {'A':1,'B':1,'C':1,'D':1}\n",
    "\n",
    "g = Graph(graph=adjacency_list, h_values=h_values)\n",
    "print(g.A_star_algorithm('A', 'D'))\n"
   ]
  }
 ],
 "metadata": {
  "kernelspec": {
   "display_name": "base",
   "language": "python",
   "name": "python3"
  },
  "language_info": {
   "codemirror_mode": {
    "name": "ipython",
    "version": 3
   },
   "file_extension": ".py",
   "mimetype": "text/x-python",
   "name": "python",
   "nbconvert_exporter": "python",
   "pygments_lexer": "ipython3",
   "version": "3.12.7"
  }
 },
 "nbformat": 4,
 "nbformat_minor": 5
}
