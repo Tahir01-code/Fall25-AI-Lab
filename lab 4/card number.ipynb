{
 "cells": [
  {
   "cell_type": "code",
   "execution_count": 1,
   "id": "c873f8bb",
   "metadata": {},
   "outputs": [
    {
     "name": "stdout",
     "output_type": "stream",
     "text": [
      "Original String: sub Kuch, Bhi;sub Kuch/ Bhi!\n",
      "Cleaned String: sub Kuch Bhisub Kuch Bhi\n"
     ]
    }
   ],
   "source": [
    "string = \"sub Kuch, Bhi;sub Kuch/ Bhi!\"\n",
    "\n",
    "cleaned_text = \"\"\n",
    "\n",
    "for char in string:\n",
    "    if char.isalnum() or char == \" \":\n",
    "        cleaned_text += char\n",
    "\n",
    "print(\"Original String:\", string)\n",
    "print(\"Cleaned String:\", cleaned_text)\n"
   ]
  },
  {
   "cell_type": "code",
   "execution_count": null,
   "id": "3948539d",
   "metadata": {},
   "outputs": [
    {
     "name": "stdout",
     "output_type": "stream",
     "text": [
      "Chars:     aaadeeefhiimmnrrsty"
     ]
    }
   ],
   "source": [
    "# through character\n",
    "\n",
    "text = \"my name is tahir fareed\"\n",
    "chars = [c for c in text]\n",
    "for i in range(len(chars)):\n",
    "    for j in range(len(chars)-i-1):\n",
    "        if ord(chars[j]) > ord(chars[j+1]):\n",
    "            chars[j], chars[j+1] = chars[j+1], chars[j]\n",
    "print(\"Chars:\", end=\" \")\n",
    "for c in chars:\n",
    "    print(c, end=\"\")\n"
   ]
  },
  {
   "cell_type": "code",
   "execution_count": 3,
   "id": "01830451",
   "metadata": {},
   "outputs": [
    {
     "name": "stdout",
     "output_type": "stream",
     "text": [
      "Words: fareed is my name tahir"
     ]
    }
   ],
   "source": [
    "# through word\n",
    "\n",
    "text = \"my name is tahir fareed\"\n",
    "words, w = [], \"\"\n",
    "for c in text:\n",
    "    if c != \" \": w += c\n",
    "    else:\n",
    "        if w: words.append(w); w = \"\"\n",
    "if w: words.append(w)\n",
    "\n",
    "for i in range(len(words)):\n",
    "    for j in range(len(words)-i-1):\n",
    "        k = 0\n",
    "        while k < len(words[j]) and k < len(words[j+1]) and words[j][k] == words[j+1][k]:\n",
    "            k += 1\n",
    "        if k < len(words[j]) and (k == len(words[j+1]) or ord(words[j][k]) > ord(words[j+1][k])):\n",
    "            words[j], words[j+1] = words[j+1], words[j]\n",
    "\n",
    "print(\"Words:\", end=\" \")\n",
    "for i in range(len(words)):\n",
    "    print(words[i], end=\" \" if i < len(words)-1 else \"\")\n"
   ]
  },
  {
   "cell_type": "code",
   "execution_count": null,
   "id": "6d91f825",
   "metadata": {},
   "outputs": [
    {
     "name": "stdout",
     "output_type": "stream",
     "text": [
      "54235789087665356787 is NOT Valid\n"
     ]
    }
   ],
   "source": [
    "def luhn(card_number):\n",
    "\n",
    "    check_digit = int(card_number[-1])\n",
    "    digits = [int(d) for d in card_number[:-1]]\n",
    "    digits.reverse()\n",
    "    for i in range(0, len(digits), 2):\n",
    "        digits[i] *= 2\n",
    "        if digits[i] > 9:\n",
    "            digits[i] -= 9\n",
    "    total = sum(digits) + check_digit\n",
    "    return total % 10 == 0\n",
    "\n",
    "\n",
    "card = \"54235789087665356787\"\n",
    "if luhn(card):\n",
    "    print(f\"{card} is VALID\")\n",
    "else:\n",
    "    print(f\"{card} is NOT Valid\")\n",
    "\n"
   ]
  },
  {
   "cell_type": "code",
   "execution_count": null,
   "id": "30dfd432",
   "metadata": {},
   "outputs": [],
   "source": []
  }
 ],
 "metadata": {
  "kernelspec": {
   "display_name": "base",
   "language": "python",
   "name": "python3"
  },
  "language_info": {
   "codemirror_mode": {
    "name": "ipython",
    "version": 3
   },
   "file_extension": ".py",
   "mimetype": "text/x-python",
   "name": "python",
   "nbconvert_exporter": "python",
   "pygments_lexer": "ipython3",
   "version": "3.12.7"
  }
 },
 "nbformat": 4,
 "nbformat_minor": 5
}
