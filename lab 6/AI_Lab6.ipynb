{
 "cells": [
  {
   "cell_type": "markdown",
   "metadata": {},
   "source": [
    "__Name: Tahir Fareed__\n",
    "\n",
    "__Roll no: SU92-BSAIM-F24-036__\n",
    "\n",
    "__Program: BSAI(3-A)__"
   ]
  },
  {
   "cell_type": "markdown",
   "metadata": {},
   "source": [
    "# AI Lab 6\n"
   ]
  },
  {
   "cell_type": "markdown",
   "metadata": {},
   "source": [
    "__Depth Limited Search (DLS)__"
   ]
  },
  {
   "cell_type": "code",
   "execution_count": null,
   "metadata": {},
   "outputs": [
    {
     "name": "stdout",
     "output_type": "stream",
     "text": [
      "DLS Path: Goal not found in limit\n"
     ]
    }
   ],
   "source": [
    "\n",
    "graph = {\n",
    "    'A':['B', 'C'],\n",
    "    'B':['D', 'E'],\n",
    "    'C':['F'],\n",
    "    'D':['G','H'],\n",
    "    'E':[],\n",
    "    'F':['I','K'],\n",
    "    'G':[],\n",
    "    'H':['L'],\n",
    "    'I':[],\n",
    "    'K':['M'],\n",
    "    'L':[],\n",
    "    'M':[]\n",
    "}\n",
    "\n",
    "def DLS(beging, goal, path, level, end_level):\n",
    "    path.append(beging)\n",
    "    if beging == goal:\n",
    "        return path\n",
    "    if level == end_level:\n",
    "        path.pop()\n",
    "        return False\n",
    "    for child in graph[beging]:\n",
    "        res = dls(child, goal, path, level+1, end_level)\n",
    "        if res:\n",
    "            return res\n",
    "    if path:\n",
    "        path.pop()\n",
    "    return False\n",
    "\n",
    "beging = 'A'\n",
    "goal = 'M'\n",
    "limit = 3\n",
    "path = []\n",
    "result = DLS(beging, goal, path, 0, limit)\n",
    "print(\"DLS Path:\", result if result else \"Goal not found in limit\")"
   ]
  },
  {
   "cell_type": "markdown",
   "metadata": {},
   "source": [
    " __BFS without Queue & without Node__"
   ]
  },
  {
   "cell_type": "code",
   "execution_count": null,
   "metadata": {},
   "outputs": [
    {
     "name": "stdout",
     "output_type": "stream",
     "text": [
      "BFS without Queue:\n",
      "A B C D E F G H I K L M "
     ]
    }
   ],
   "source": [
    "\n",
    "graph = {\n",
    "    'A':['B','C'],\n",
    "    'B':['D','E'],\n",
    "    'C':['F'],\n",
    "    'D':['G','H'],\n",
    "    'E':[],\n",
    "    'F':['I','K'],\n",
    "    'G':[],\n",
    "    'H':['L'],\n",
    "    'I':[],\n",
    "    'K':['M'],\n",
    "    'L':[],\n",
    "    'M':[]\n",
    "}\n",
    "\n",
    "def BFS_without_queue(graph, current_level):\n",
    "    if not current_level:\n",
    "        return\n",
    "    next_level = []\n",
    "    for t in current_level:\n",
    "        print(t, end=' ')\n",
    "        for neighbor in graph[node]:\n",
    "            next_level.append(neighbor)\n",
    "    bfs_without_queue(graph, next_level)\n",
    "\n",
    "print(\"BFS without Queue:\")\n",
    "bfs_without_queue(graph, ['A'])"
   ]
  },
  {
   "cell_type": "markdown",
   "metadata": {},
   "source": [
    " __BFS with Queue & Node__"
   ]
  },
  {
   "cell_type": "code",
   "execution_count": null,
   "metadata": {},
   "outputs": [
    {
     "name": "stdout",
     "output_type": "stream",
     "text": [
      "\n",
      "BFS with Queue:\n",
      "A B C D E F G H I K L M "
     ]
    }
   ],
   "source": [
    "\n",
    "graph = {\n",
    "    'A':['B','C'],\n",
    "    'B':['D','E'],\n",
    "    'C':['F'],\n",
    "    'D':['G','H'],\n",
    "    'E':[],\n",
    "    'F':['I','K'],\n",
    "    'G':[],\n",
    "    'H':['L'],\n",
    "    'I':[],\n",
    "    'K':['M'],\n",
    "    'L':[],\n",
    "    'M':[]\n",
    "}\n",
    "\n",
    "def BFS_with_queue(graph, beging):\n",
    "    visited = []\n",
    "    queue = [beging]\n",
    "    while queue:\n",
    "        t = queue.pop(0)\n",
    "        if t not in visited:\n",
    "            print(t, end=' ')\n",
    "            visited.append(t)\n",
    "            for neighbor in graph[t]:\n",
    "                if neighbor not in visited:\n",
    "                    queue.append(neighbor)\n",
    "\n",
    "print(\"\\nBFS with Queue:\")\n",
    "BFS_with_queue(graph, 'A')"
   ]
  }
 ],
 "metadata": {
  "kernelspec": {
   "display_name": "base",
   "language": "python",
   "name": "python3"
  },
  "language_info": {
   "codemirror_mode": {
    "name": "ipython",
    "version": 3
   },
   "file_extension": ".py",
   "mimetype": "text/x-python",
   "name": "python",
   "nbconvert_exporter": "python",
   "pygments_lexer": "ipython3",
   "version": "3.12.7"
  }
 },
 "nbformat": 4,
 "nbformat_minor": 2
}
