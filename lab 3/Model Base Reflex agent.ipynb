{
 "cells": [
  {
   "cell_type": "code",
   "execution_count": 1,
   "id": "a8b9f5b5",
   "metadata": {},
   "outputs": [
    {
     "name": "stdout",
     "output_type": "stream",
     "text": [
      "study Room :\t20°C => Action: Turn off the AC\n",
      "bedroom Room :\t18°C => Action: No action needed\n",
      "Kitchen :\t30°C => Action: Turn on the AC\n",
      "\n",
      "Example of an individual room:\n",
      "24°C => Action: No action needed\n"
     ]
    }
   ],
   "source": [
    "class ModelBasedReflexAgent:\n",
    "    def __init__(self, temp):   \n",
    "        self.fixed_temp = temp\n",
    "        self.previous_action = None\n",
    "        self.current_temp = None\n",
    "    \n",
    "    def sensor(self, temp):\n",
    "        self.current_temp = temp\n",
    "    \n",
    "    def performance(self):\n",
    "        action = None\n",
    "        if self.current_temp > self.fixed_temp:\n",
    "            action = \"Turn on the AC\"\n",
    "        else:\n",
    "            action = \"Turn off the AC\"\n",
    "        \n",
    "  \n",
    "        if self.previous_action == action:\n",
    "            action = \"No action needed\"\n",
    "        \n",
    "        self.previous_action = action\n",
    "        return action\n",
    "    \n",
    "    def actuator(self):\n",
    "        action = self.performance()\n",
    "        print(f\"{self.current_temp}°C => Action: {action}\")\n",
    "\n",
    "\n",
    "# Example rooms\n",
    "rooms = {\n",
    "    \"study Room\": 20,\n",
    "    \"bedroom Room\": 18,\n",
    "    \"Kitchen\": 30,\n",
    "}\n",
    "\n",
    "agent = ModelBasedReflexAgent(22)   \n",
    "\n",
    "for room, temp in rooms.items():\n",
    "    print(f\"{room} :\\t\", end='')\n",
    "    agent.sensor(temp)\n",
    "    agent.actuator()\n",
    "\n",
    "print(\"\\nExample of an individual room:\")\n",
    "agent.sensor(24)\n",
    "agent.actuator()\n"
   ]
  }
 ],
 "metadata": {
  "kernelspec": {
   "display_name": "base",
   "language": "python",
   "name": "python3"
  },
  "language_info": {
   "codemirror_mode": {
    "name": "ipython",
    "version": 3
   },
   "file_extension": ".py",
   "mimetype": "text/x-python",
   "name": "python",
   "nbconvert_exporter": "python",
   "pygments_lexer": "ipython3",
   "version": "3.12.7"
  }
 },
 "nbformat": 4,
 "nbformat_minor": 5
}
