{
 "cells": [
  {
   "cell_type": "markdown",
   "id": "ffd8b2a1",
   "metadata": {},
   "source": [
    "__Name: Tahir Fareed__\n",
    "\n",
    "__Roll no: SU92-BSAIM-F24-036__\n",
    "\n",
    "__Program: BSAI (3-A)__"
   ]
  },
  {
   "cell_type": "markdown",
   "id": "650cc3fb",
   "metadata": {},
   "source": [
    "# DFS using stack (A–G graph)"
   ]
  },
  {
   "cell_type": "code",
   "execution_count": null,
   "id": "efa0431f",
   "metadata": {},
   "outputs": [
    {
     "name": "stdout",
     "output_type": "stream",
     "text": [
      "DFS using stack:\n",
      "A B D E C F G "
     ]
    }
   ],
   "source": [
    "\n",
    "def DFS_stack(graph, start):\n",
    "    seen = set()\n",
    "    stack = [start]\n",
    "\n",
    "    while stack:\n",
    "        vertex = stack.pop()\n",
    "        if vertex not in seen:\n",
    "            print(vertex, end=\" \")\n",
    "            seen.add(vertex)\n",
    "            stack.extend(reversed(graph[vertex]))   \n",
    "\n",
    "graph = {\n",
    "    'A': ['B', 'C'],\n",
    "    'B': ['D', 'E'],\n",
    "    'C': ['F', 'G'],\n",
    "    'D': [],\n",
    "    'E': [],\n",
    "    'F': [],\n",
    "    'G': []\n",
    "}\n",
    "\n",
    "print(\"DFS using stack:\")\n",
    "DFS_stack(graph, 'A')\n"
   ]
  }
 ],
 "metadata": {
  "kernelspec": {
   "display_name": "base",
   "language": "python",
   "name": "python3"
  },
  "language_info": {
   "codemirror_mode": {
    "name": "ipython",
    "version": 3
   },
   "file_extension": ".py",
   "mimetype": "text/x-python",
   "name": "python",
   "nbconvert_exporter": "python",
   "pygments_lexer": "ipython3",
   "version": "3.12.7"
  }
 },
 "nbformat": 4,
 "nbformat_minor": 5
}
